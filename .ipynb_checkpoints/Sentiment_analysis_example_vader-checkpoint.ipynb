{
 "cells": [
  {
   "cell_type": "markdown",
   "id": "e614df53",
   "metadata": {},
   "source": [
    "# Exemplo de análise de sentimentos usando o VADER\n",
    "\n",
    "## Pacotes utilizados"
   ]
  },
  {
   "cell_type": "markdown",
   "id": "97744dd0",
   "metadata": {},
   "source": [
    "* __LeIA__: fork do léxico e ferramenta para análise de sentimentos VADER adaptado para textos em português;\n",
    "* __Pandas__: pacote/módulo para análise e manipulação de dados;\n",
    "* __Numpy__: pacote/módulo para programação científica;\n",
    "* __RE__: pacote/módulo para operações de correspondência de expressões regulares."
   ]
  },
  {
   "cell_type": "code",
   "execution_count": 39,
   "id": "30bb4b45",
   "metadata": {},
   "outputs": [],
   "source": [
    "# IMPORTANDO PACOTES\n",
    "\n",
    "from leia.leia import SentimentIntensityAnalyzer\n",
    "import pandas as pd\n",
    "import numpy as np\n",
    "import re"
   ]
  },
  {
   "cell_type": "code",
   "execution_count": 40,
   "id": "92ce13d5",
   "metadata": {
    "scrolled": true
   },
   "outputs": [
    {
     "data": {
      "text/html": [
       "<div>\n",
       "<style scoped>\n",
       "    .dataframe tbody tr th:only-of-type {\n",
       "        vertical-align: middle;\n",
       "    }\n",
       "\n",
       "    .dataframe tbody tr th {\n",
       "        vertical-align: top;\n",
       "    }\n",
       "\n",
       "    .dataframe thead th {\n",
       "        text-align: right;\n",
       "    }\n",
       "</style>\n",
       "<table border=\"1\" class=\"dataframe\">\n",
       "  <thead>\n",
       "    <tr style=\"text-align: right;\">\n",
       "      <th></th>\n",
       "      <th>id_str_twitter</th>\n",
       "      <th>name</th>\n",
       "      <th>screen_name</th>\n",
       "      <th>created_at</th>\n",
       "      <th>text</th>\n",
       "    </tr>\n",
       "  </thead>\n",
       "  <tbody>\n",
       "    <tr>\n",
       "      <th>0</th>\n",
       "      <td>1552601236809158656</td>\n",
       "      <td>Neymar Jr</td>\n",
       "      <td>neymarjr</td>\n",
       "      <td>2022-07-28 10:25:55+00:00</td>\n",
       "      <td>@gabriel1medina Gosto de vc assim 😂😂</td>\n",
       "    </tr>\n",
       "    <tr>\n",
       "      <th>1</th>\n",
       "      <td>1551860014301827072</td>\n",
       "      <td>Neymar Jr</td>\n",
       "      <td>neymarjr</td>\n",
       "      <td>2022-07-26 09:20:34+00:00</td>\n",
       "      <td>Toda ação provava uma reação … \\nFala o que qu...</td>\n",
       "    </tr>\n",
       "    <tr>\n",
       "      <th>2</th>\n",
       "      <td>1551859906189328384</td>\n",
       "      <td>Neymar Jr</td>\n",
       "      <td>neymarjr</td>\n",
       "      <td>2022-07-26 09:20:08+00:00</td>\n",
       "      <td>Ah pronto! Não posso contrariar uma matéria qu...</td>\n",
       "    </tr>\n",
       "    <tr>\n",
       "      <th>3</th>\n",
       "      <td>1551582940219559936</td>\n",
       "      <td>Neymar Jr</td>\n",
       "      <td>neymarjr</td>\n",
       "      <td>2022-07-25 14:59:34+00:00</td>\n",
       "      <td>Meu sobrenome 😂🤷🏽‍♂️ atura ou surta https://t....</td>\n",
       "    </tr>\n",
       "    <tr>\n",
       "      <th>4</th>\n",
       "      <td>1551576735443034112</td>\n",
       "      <td>Neymar Jr</td>\n",
       "      <td>neymarjr</td>\n",
       "      <td>2022-07-25 14:34:55+00:00</td>\n",
       "      <td>@geglobo Fantasma? 😂😂😂 ge sendo ge … tocou é p...</td>\n",
       "    </tr>\n",
       "  </tbody>\n",
       "</table>\n",
       "</div>"
      ],
      "text/plain": [
       "        id_str_twitter       name screen_name                created_at  \\\n",
       "0  1552601236809158656  Neymar Jr    neymarjr 2022-07-28 10:25:55+00:00   \n",
       "1  1551860014301827072  Neymar Jr    neymarjr 2022-07-26 09:20:34+00:00   \n",
       "2  1551859906189328384  Neymar Jr    neymarjr 2022-07-26 09:20:08+00:00   \n",
       "3  1551582940219559936  Neymar Jr    neymarjr 2022-07-25 14:59:34+00:00   \n",
       "4  1551576735443034112  Neymar Jr    neymarjr 2022-07-25 14:34:55+00:00   \n",
       "\n",
       "                                                text  \n",
       "0               @gabriel1medina Gosto de vc assim 😂😂  \n",
       "1  Toda ação provava uma reação … \\nFala o que qu...  \n",
       "2  Ah pronto! Não posso contrariar uma matéria qu...  \n",
       "3  Meu sobrenome 😂🤷🏽‍♂️ atura ou surta https://t....  \n",
       "4  @geglobo Fantasma? 😂😂😂 ge sendo ge … tocou é p...  "
      ]
     },
     "execution_count": 40,
     "metadata": {},
     "output_type": "execute_result"
    }
   ],
   "source": [
    "# LENDO ARQUIVO JSON COM OS TWEETS\n",
    "\n",
    "dados = pd.read_json(r'example_dataset.json')\n",
    "dados.head()"
   ]
  },
  {
   "cell_type": "markdown",
   "id": "8a5473d7",
   "metadata": {},
   "source": []
  },
  {
   "cell_type": "code",
   "execution_count": 41,
   "id": "7552056f",
   "metadata": {},
   "outputs": [
    {
     "data": {
      "text/html": [
       "<div>\n",
       "<style scoped>\n",
       "    .dataframe tbody tr th:only-of-type {\n",
       "        vertical-align: middle;\n",
       "    }\n",
       "\n",
       "    .dataframe tbody tr th {\n",
       "        vertical-align: top;\n",
       "    }\n",
       "\n",
       "    .dataframe thead th {\n",
       "        text-align: right;\n",
       "    }\n",
       "</style>\n",
       "<table border=\"1\" class=\"dataframe\">\n",
       "  <thead>\n",
       "    <tr style=\"text-align: right;\">\n",
       "      <th></th>\n",
       "      <th>id_tweet</th>\n",
       "      <th>nome</th>\n",
       "      <th>nome_conta</th>\n",
       "      <th>data_criacao</th>\n",
       "      <th>texto</th>\n",
       "    </tr>\n",
       "  </thead>\n",
       "  <tbody>\n",
       "    <tr>\n",
       "      <th>0</th>\n",
       "      <td>1552601236809158656</td>\n",
       "      <td>Neymar Jr</td>\n",
       "      <td>neymarjr</td>\n",
       "      <td>2022-07-28 10:25:55+00:00</td>\n",
       "      <td>@gabriel1medina Gosto de vc assim 😂😂</td>\n",
       "    </tr>\n",
       "    <tr>\n",
       "      <th>1</th>\n",
       "      <td>1551860014301827072</td>\n",
       "      <td>Neymar Jr</td>\n",
       "      <td>neymarjr</td>\n",
       "      <td>2022-07-26 09:20:34+00:00</td>\n",
       "      <td>Toda ação provava uma reação … \\nFala o que qu...</td>\n",
       "    </tr>\n",
       "    <tr>\n",
       "      <th>2</th>\n",
       "      <td>1551859906189328384</td>\n",
       "      <td>Neymar Jr</td>\n",
       "      <td>neymarjr</td>\n",
       "      <td>2022-07-26 09:20:08+00:00</td>\n",
       "      <td>Ah pronto! Não posso contrariar uma matéria qu...</td>\n",
       "    </tr>\n",
       "    <tr>\n",
       "      <th>3</th>\n",
       "      <td>1551582940219559936</td>\n",
       "      <td>Neymar Jr</td>\n",
       "      <td>neymarjr</td>\n",
       "      <td>2022-07-25 14:59:34+00:00</td>\n",
       "      <td>Meu sobrenome 😂🤷🏽‍♂️ atura ou surta https://t....</td>\n",
       "    </tr>\n",
       "    <tr>\n",
       "      <th>4</th>\n",
       "      <td>1551576735443034112</td>\n",
       "      <td>Neymar Jr</td>\n",
       "      <td>neymarjr</td>\n",
       "      <td>2022-07-25 14:34:55+00:00</td>\n",
       "      <td>@geglobo Fantasma? 😂😂😂 ge sendo ge … tocou é p...</td>\n",
       "    </tr>\n",
       "  </tbody>\n",
       "</table>\n",
       "</div>"
      ],
      "text/plain": [
       "              id_tweet       nome nome_conta              data_criacao  \\\n",
       "0  1552601236809158656  Neymar Jr   neymarjr 2022-07-28 10:25:55+00:00   \n",
       "1  1551860014301827072  Neymar Jr   neymarjr 2022-07-26 09:20:34+00:00   \n",
       "2  1551859906189328384  Neymar Jr   neymarjr 2022-07-26 09:20:08+00:00   \n",
       "3  1551582940219559936  Neymar Jr   neymarjr 2022-07-25 14:59:34+00:00   \n",
       "4  1551576735443034112  Neymar Jr   neymarjr 2022-07-25 14:34:55+00:00   \n",
       "\n",
       "                                               texto  \n",
       "0               @gabriel1medina Gosto de vc assim 😂😂  \n",
       "1  Toda ação provava uma reação … \\nFala o que qu...  \n",
       "2  Ah pronto! Não posso contrariar uma matéria qu...  \n",
       "3  Meu sobrenome 😂🤷🏽‍♂️ atura ou surta https://t....  \n",
       "4  @geglobo Fantasma? 😂😂😂 ge sendo ge … tocou é p...  "
      ]
     },
     "execution_count": 41,
     "metadata": {},
     "output_type": "execute_result"
    }
   ],
   "source": [
    "dados.columns = ['id_tweet', 'nome', 'nome_conta', 'data_criacao', 'texto']\n",
    "dados.head()"
   ]
  },
  {
   "cell_type": "markdown",
   "id": "d173d042",
   "metadata": {},
   "source": [
    "# Construção do dataset"
   ]
  },
  {
   "cell_type": "markdown",
   "id": "f19a59b5",
   "metadata": {},
   "source": [
    "O arquivo JSON com o dataset foi construído a partir da coleta dos tweets usando a Twitter API através da biblioteca Tweepy (https://www.tweepy.org)."
   ]
  },
  {
   "cell_type": "code",
   "execution_count": 42,
   "id": "8a9676f1",
   "metadata": {
    "scrolled": true
   },
   "outputs": [
    {
     "name": "stdout",
     "output_type": "stream",
     "text": [
      "<class 'pandas.core.frame.DataFrame'>\n",
      "RangeIndex: 57 entries, 0 to 56\n",
      "Data columns (total 5 columns):\n",
      " #   Column        Non-Null Count  Dtype              \n",
      "---  ------        --------------  -----              \n",
      " 0   id_tweet      57 non-null     int64              \n",
      " 1   nome          57 non-null     object             \n",
      " 2   nome_conta    57 non-null     object             \n",
      " 3   data_criacao  57 non-null     datetime64[ns, UTC]\n",
      " 4   texto         57 non-null     object             \n",
      "dtypes: datetime64[ns, UTC](1), int64(1), object(3)\n",
      "memory usage: 2.4+ KB\n"
     ]
    }
   ],
   "source": [
    "dados.info()"
   ]
  },
  {
   "cell_type": "markdown",
   "id": "87b04c44",
   "metadata": {},
   "source": [
    "# Função para realizar a análise de sentimentos"
   ]
  },
  {
   "cell_type": "markdown",
   "id": "2cbdea49",
   "metadata": {},
   "source": [
    "* __SentimentIntensityAnalyzer__: classe usada para calcular uma pontuação de intensidade de sentimentos de determinado texto;\n",
    "* __polarity_scores(text)__: retorna pontuações de intensidade do sentimento com base no texto de entrada."
   ]
  },
  {
   "cell_type": "code",
   "execution_count": 56,
   "id": "d44b77dd",
   "metadata": {},
   "outputs": [],
   "source": [
    "def realizar_analise_vader(text):\n",
    "    analisador = SentimentIntensityAnalyzer()\n",
    "    resultado = analisador.polarity_scores(text)\n",
    "\n",
    "    return resultado"
   ]
  },
  {
   "cell_type": "code",
   "execution_count": 57,
   "id": "bb8d35ba",
   "metadata": {},
   "outputs": [
    {
     "data": {
      "text/plain": [
       "{'neg': 0.615, 'neu': 0.385, 'pos': 0.0, 'compound': -0.75}"
      ]
     },
     "execution_count": 57,
     "metadata": {},
     "output_type": "execute_result"
    }
   ],
   "source": [
    "resultado = realizar_analise_vader(\"Fico triste pela derrota do Santos!\")\n",
    "resultado"
   ]
  },
  {
   "cell_type": "markdown",
   "id": "def0dc8a",
   "metadata": {},
   "source": [
    "# Formato de retorno da função _polarity_scores_"
   ]
  },
  {
   "cell_type": "markdown",
   "id": "6da16395",
   "metadata": {},
   "source": [
    "* __neg__: probabilidade do sentimento do texto ser negativo;\n",
    "* __neu__: probabilidade do sentimento do texto ser neutro;\n",
    "* __pos__: probabilidade do sentimento do texto ser positivo;\n",
    "* __compound__: valor composto normalizado que calcula a soma de todas as classificações para o texto, na escala de -1 a 1."
   ]
  },
  {
   "cell_type": "markdown",
   "id": "a181e4a2",
   "metadata": {},
   "source": [
    "# Criando funções de pré-processamento de texto"
   ]
  },
  {
   "cell_type": "markdown",
   "id": "1f2cef15",
   "metadata": {},
   "source": [
    "* Removendo menções a usuários;\n",
    "* Removendo links;\n",
    "* Removendo números\n",
    "* Removendo espaços em branco duplicados, e no início e final dos textos"
   ]
  },
  {
   "cell_type": "code",
   "execution_count": 77,
   "id": "b1e0e300",
   "metadata": {},
   "outputs": [],
   "source": [
    "def remover_padrao(input_txt, pattern):\n",
    "    r = re.findall(pattern, input_txt)\n",
    "    for i in r:\n",
    "        input_txt = re.sub(i, '', input_txt)\n",
    "    return input_txt\n",
    "\n",
    "\n",
    "\n",
    "def limpar_tweets(tweets):\n",
    "\n",
    "    # remove mencoes a usuarios (@xxx)\n",
    "    tweets = np.vectorize(remover_padrao)(tweets, \"@[\\w]*\")\n",
    "\n",
    "    # remove URL links (httpxxx)\n",
    "    tweets = np.vectorize(remover_padrao)(tweets, \"https?://[A-Za-z0-9./]*\")\n",
    "\n",
    "    # remove numeros\n",
    "    tweets = np.vectorize(remover_padrao)(tweets, \"\\d+\")\n",
    "    \n",
    "    # remove espacos em branco duplicados\n",
    "    tweets = [\" \".join(t.split()) for t in tweets]\n",
    "    \n",
    "    # remove espacos em branco do inicio e do final da string\n",
    "    tweets = [t.strip() for t in tweets]\n",
    "\n",
    "    return tweets"
   ]
  },
  {
   "cell_type": "code",
   "execution_count": 78,
   "id": "8b54d161",
   "metadata": {},
   "outputs": [],
   "source": [
    "dados['texto_limpo'] = limpar_tweets(dados['texto'])"
   ]
  },
  {
   "cell_type": "code",
   "execution_count": 79,
   "id": "5daabb08",
   "metadata": {
    "scrolled": true
   },
   "outputs": [
    {
     "data": {
      "text/html": [
       "<div>\n",
       "<style scoped>\n",
       "    .dataframe tbody tr th:only-of-type {\n",
       "        vertical-align: middle;\n",
       "    }\n",
       "\n",
       "    .dataframe tbody tr th {\n",
       "        vertical-align: top;\n",
       "    }\n",
       "\n",
       "    .dataframe thead th {\n",
       "        text-align: right;\n",
       "    }\n",
       "</style>\n",
       "<table border=\"1\" class=\"dataframe\">\n",
       "  <thead>\n",
       "    <tr style=\"text-align: right;\">\n",
       "      <th></th>\n",
       "      <th>id_tweet</th>\n",
       "      <th>nome</th>\n",
       "      <th>nome_conta</th>\n",
       "      <th>data_criacao</th>\n",
       "      <th>texto</th>\n",
       "      <th>texto_limpo</th>\n",
       "      <th>polaridade_vader</th>\n",
       "    </tr>\n",
       "  </thead>\n",
       "  <tbody>\n",
       "    <tr>\n",
       "      <th>0</th>\n",
       "      <td>1552601236809158656</td>\n",
       "      <td>Neymar Jr</td>\n",
       "      <td>neymarjr</td>\n",
       "      <td>2022-07-28 10:25:55+00:00</td>\n",
       "      <td>@gabriel1medina Gosto de vc assim 😂😂</td>\n",
       "      <td>Gosto de vc assim 😂😂</td>\n",
       "      <td>Positivo</td>\n",
       "    </tr>\n",
       "    <tr>\n",
       "      <th>1</th>\n",
       "      <td>1551860014301827072</td>\n",
       "      <td>Neymar Jr</td>\n",
       "      <td>neymarjr</td>\n",
       "      <td>2022-07-26 09:20:34+00:00</td>\n",
       "      <td>Toda ação provava uma reação … \\nFala o que qu...</td>\n",
       "      <td>Toda ação provava uma reação … Fala o que quer...</td>\n",
       "      <td>Negativo</td>\n",
       "    </tr>\n",
       "    <tr>\n",
       "      <th>2</th>\n",
       "      <td>1551859906189328384</td>\n",
       "      <td>Neymar Jr</td>\n",
       "      <td>neymarjr</td>\n",
       "      <td>2022-07-26 09:20:08+00:00</td>\n",
       "      <td>Ah pronto! Não posso contrariar uma matéria qu...</td>\n",
       "      <td>Ah pronto! Não posso contrariar uma matéria qu...</td>\n",
       "      <td>Negativo</td>\n",
       "    </tr>\n",
       "    <tr>\n",
       "      <th>3</th>\n",
       "      <td>1551582940219559936</td>\n",
       "      <td>Neymar Jr</td>\n",
       "      <td>neymarjr</td>\n",
       "      <td>2022-07-25 14:59:34+00:00</td>\n",
       "      <td>Meu sobrenome 😂🤷🏽‍♂️ atura ou surta https://t....</td>\n",
       "      <td>Meu sobrenome 😂🤷🏽‍♂️ atura ou surta</td>\n",
       "      <td>Neutro</td>\n",
       "    </tr>\n",
       "    <tr>\n",
       "      <th>4</th>\n",
       "      <td>1551576735443034112</td>\n",
       "      <td>Neymar Jr</td>\n",
       "      <td>neymarjr</td>\n",
       "      <td>2022-07-25 14:34:55+00:00</td>\n",
       "      <td>@geglobo Fantasma? 😂😂😂 ge sendo ge … tocou é p...</td>\n",
       "      <td>Fantasma? 😂😂😂 ge sendo ge … tocou é pênalti! B...</td>\n",
       "      <td>Negativo</td>\n",
       "    </tr>\n",
       "  </tbody>\n",
       "</table>\n",
       "</div>"
      ],
      "text/plain": [
       "              id_tweet       nome nome_conta              data_criacao  \\\n",
       "0  1552601236809158656  Neymar Jr   neymarjr 2022-07-28 10:25:55+00:00   \n",
       "1  1551860014301827072  Neymar Jr   neymarjr 2022-07-26 09:20:34+00:00   \n",
       "2  1551859906189328384  Neymar Jr   neymarjr 2022-07-26 09:20:08+00:00   \n",
       "3  1551582940219559936  Neymar Jr   neymarjr 2022-07-25 14:59:34+00:00   \n",
       "4  1551576735443034112  Neymar Jr   neymarjr 2022-07-25 14:34:55+00:00   \n",
       "\n",
       "                                               texto  \\\n",
       "0               @gabriel1medina Gosto de vc assim 😂😂   \n",
       "1  Toda ação provava uma reação … \\nFala o que qu...   \n",
       "2  Ah pronto! Não posso contrariar uma matéria qu...   \n",
       "3  Meu sobrenome 😂🤷🏽‍♂️ atura ou surta https://t....   \n",
       "4  @geglobo Fantasma? 😂😂😂 ge sendo ge … tocou é p...   \n",
       "\n",
       "                                         texto_limpo polaridade_vader  \n",
       "0                               Gosto de vc assim 😂😂         Positivo  \n",
       "1  Toda ação provava uma reação … Fala o que quer...         Negativo  \n",
       "2  Ah pronto! Não posso contrariar uma matéria qu...         Negativo  \n",
       "3                Meu sobrenome 😂🤷🏽‍♂️ atura ou surta           Neutro  \n",
       "4  Fantasma? 😂😂😂 ge sendo ge … tocou é pênalti! B...         Negativo  "
      ]
     },
     "execution_count": 79,
     "metadata": {},
     "output_type": "execute_result"
    }
   ],
   "source": [
    "dados.head()"
   ]
  },
  {
   "cell_type": "code",
   "execution_count": 80,
   "id": "738a4039",
   "metadata": {},
   "outputs": [
    {
     "data": {
      "text/plain": [
       "'@neymarjrdepre Gosto desse clima 😂😂😂😂 futebol é isso! \\nProvocar o rival apps a Vitoria! \\nTudo no bom sentido.\\nSem violência fica perfeito 🙏\\nAdoro hangar dos meus amigos e provocá-los 😂😂😂😂'"
      ]
     },
     "execution_count": 80,
     "metadata": {},
     "output_type": "execute_result"
    }
   ],
   "source": [
    "dados.iloc[5]['texto']"
   ]
  },
  {
   "cell_type": "code",
   "execution_count": 81,
   "id": "5413acb5",
   "metadata": {},
   "outputs": [
    {
     "data": {
      "text/plain": [
       "'Gosto desse clima 😂😂😂😂 futebol é isso! Provocar o rival apps a Vitoria! Tudo no bom sentido. Sem violência fica perfeito 🙏 Adoro hangar dos meus amigos e provocá-los 😂😂😂😂'"
      ]
     },
     "execution_count": 81,
     "metadata": {},
     "output_type": "execute_result"
    }
   ],
   "source": [
    "dados.iloc[5]['texto_limpo']"
   ]
  },
  {
   "cell_type": "markdown",
   "id": "a0d2a2de",
   "metadata": {},
   "source": [
    "# Determinando a polaridade"
   ]
  },
  {
   "attachments": {
    "1*AhqHTmvl00dbh8jmEpBmaQ.png": {
     "image/png": "[encoded data removed]"
    }
   },
   "cell_type": "markdown",
   "id": "ee21a1d8",
   "metadata": {},
   "source": [
    "# ![1*AhqHTmvl00dbh8jmEpBmaQ.png](attachment:1*AhqHTmvl00dbh8jmEpBmaQ.png)"
   ]
  },
  {
   "cell_type": "code",
   "execution_count": 82,
   "id": "cf88fe02",
   "metadata": {},
   "outputs": [],
   "source": [
    "def determinar_polaridade(text):\n",
    "    resultado = realizar_analise_vader(text)\n",
    "\n",
    "    if resultado['compound'] >= 0.05 :\n",
    "        return \"Positivo\"\n",
    "\n",
    "    elif resultado['compound'] <= -0.05 :\n",
    "        return \"Negativo\"\n",
    "\n",
    "    else:\n",
    "        return \"Neutro\""
   ]
  },
  {
   "cell_type": "code",
   "execution_count": 83,
   "id": "9932e05c",
   "metadata": {},
   "outputs": [],
   "source": [
    "dados['polaridade_vader'] = \"\""
   ]
  },
  {
   "cell_type": "code",
   "execution_count": 84,
   "id": "b0a153bc",
   "metadata": {
    "scrolled": true
   },
   "outputs": [
    {
     "data": {
      "text/html": [
       "<div>\n",
       "<style scoped>\n",
       "    .dataframe tbody tr th:only-of-type {\n",
       "        vertical-align: middle;\n",
       "    }\n",
       "\n",
       "    .dataframe tbody tr th {\n",
       "        vertical-align: top;\n",
       "    }\n",
       "\n",
       "    .dataframe thead th {\n",
       "        text-align: right;\n",
       "    }\n",
       "</style>\n",
       "<table border=\"1\" class=\"dataframe\">\n",
       "  <thead>\n",
       "    <tr style=\"text-align: right;\">\n",
       "      <th></th>\n",
       "      <th>id_tweet</th>\n",
       "      <th>nome</th>\n",
       "      <th>nome_conta</th>\n",
       "      <th>data_criacao</th>\n",
       "      <th>texto</th>\n",
       "      <th>texto_limpo</th>\n",
       "      <th>polaridade_vader</th>\n",
       "    </tr>\n",
       "  </thead>\n",
       "  <tbody>\n",
       "    <tr>\n",
       "      <th>0</th>\n",
       "      <td>1552601236809158656</td>\n",
       "      <td>Neymar Jr</td>\n",
       "      <td>neymarjr</td>\n",
       "      <td>2022-07-28 10:25:55+00:00</td>\n",
       "      <td>@gabriel1medina Gosto de vc assim 😂😂</td>\n",
       "      <td>Gosto de vc assim 😂😂</td>\n",
       "      <td></td>\n",
       "    </tr>\n",
       "    <tr>\n",
       "      <th>1</th>\n",
       "      <td>1551860014301827072</td>\n",
       "      <td>Neymar Jr</td>\n",
       "      <td>neymarjr</td>\n",
       "      <td>2022-07-26 09:20:34+00:00</td>\n",
       "      <td>Toda ação provava uma reação … \\nFala o que qu...</td>\n",
       "      <td>Toda ação provava uma reação … Fala o que quer...</td>\n",
       "      <td></td>\n",
       "    </tr>\n",
       "    <tr>\n",
       "      <th>2</th>\n",
       "      <td>1551859906189328384</td>\n",
       "      <td>Neymar Jr</td>\n",
       "      <td>neymarjr</td>\n",
       "      <td>2022-07-26 09:20:08+00:00</td>\n",
       "      <td>Ah pronto! Não posso contrariar uma matéria qu...</td>\n",
       "      <td>Ah pronto! Não posso contrariar uma matéria qu...</td>\n",
       "      <td></td>\n",
       "    </tr>\n",
       "    <tr>\n",
       "      <th>3</th>\n",
       "      <td>1551582940219559936</td>\n",
       "      <td>Neymar Jr</td>\n",
       "      <td>neymarjr</td>\n",
       "      <td>2022-07-25 14:59:34+00:00</td>\n",
       "      <td>Meu sobrenome 😂🤷🏽‍♂️ atura ou surta https://t....</td>\n",
       "      <td>Meu sobrenome 😂🤷🏽‍♂️ atura ou surta</td>\n",
       "      <td></td>\n",
       "    </tr>\n",
       "    <tr>\n",
       "      <th>4</th>\n",
       "      <td>1551576735443034112</td>\n",
       "      <td>Neymar Jr</td>\n",
       "      <td>neymarjr</td>\n",
       "      <td>2022-07-25 14:34:55+00:00</td>\n",
       "      <td>@geglobo Fantasma? 😂😂😂 ge sendo ge … tocou é p...</td>\n",
       "      <td>Fantasma? 😂😂😂 ge sendo ge … tocou é pênalti! B...</td>\n",
       "      <td></td>\n",
       "    </tr>\n",
       "  </tbody>\n",
       "</table>\n",
       "</div>"
      ],
      "text/plain": [
       "              id_tweet       nome nome_conta              data_criacao  \\\n",
       "0  1552601236809158656  Neymar Jr   neymarjr 2022-07-28 10:25:55+00:00   \n",
       "1  1551860014301827072  Neymar Jr   neymarjr 2022-07-26 09:20:34+00:00   \n",
       "2  1551859906189328384  Neymar Jr   neymarjr 2022-07-26 09:20:08+00:00   \n",
       "3  1551582940219559936  Neymar Jr   neymarjr 2022-07-25 14:59:34+00:00   \n",
       "4  1551576735443034112  Neymar Jr   neymarjr 2022-07-25 14:34:55+00:00   \n",
       "\n",
       "                                               texto  \\\n",
       "0               @gabriel1medina Gosto de vc assim 😂😂   \n",
       "1  Toda ação provava uma reação … \\nFala o que qu...   \n",
       "2  Ah pronto! Não posso contrariar uma matéria qu...   \n",
       "3  Meu sobrenome 😂🤷🏽‍♂️ atura ou surta https://t....   \n",
       "4  @geglobo Fantasma? 😂😂😂 ge sendo ge … tocou é p...   \n",
       "\n",
       "                                         texto_limpo polaridade_vader  \n",
       "0                               Gosto de vc assim 😂😂                   \n",
       "1  Toda ação provava uma reação … Fala o que quer...                   \n",
       "2  Ah pronto! Não posso contrariar uma matéria qu...                   \n",
       "3                Meu sobrenome 😂🤷🏽‍♂️ atura ou surta                   \n",
       "4  Fantasma? 😂😂😂 ge sendo ge … tocou é pênalti! B...                   "
      ]
     },
     "execution_count": 84,
     "metadata": {},
     "output_type": "execute_result"
    }
   ],
   "source": [
    "dados.head()"
   ]
  },
  {
   "cell_type": "code",
   "execution_count": 85,
   "id": "af2b8e6f",
   "metadata": {},
   "outputs": [],
   "source": [
    "dados['polaridade_vader'] = np.vectorize(determinar_polaridade)(dados['texto_limpo'])"
   ]
  },
  {
   "cell_type": "code",
   "execution_count": 86,
   "id": "7b946f4c",
   "metadata": {},
   "outputs": [
    {
     "data": {
      "text/html": [
       "<div>\n",
       "<style scoped>\n",
       "    .dataframe tbody tr th:only-of-type {\n",
       "        vertical-align: middle;\n",
       "    }\n",
       "\n",
       "    .dataframe tbody tr th {\n",
       "        vertical-align: top;\n",
       "    }\n",
       "\n",
       "    .dataframe thead th {\n",
       "        text-align: right;\n",
       "    }\n",
       "</style>\n",
       "<table border=\"1\" class=\"dataframe\">\n",
       "  <thead>\n",
       "    <tr style=\"text-align: right;\">\n",
       "      <th></th>\n",
       "      <th>id_tweet</th>\n",
       "      <th>nome</th>\n",
       "      <th>nome_conta</th>\n",
       "      <th>data_criacao</th>\n",
       "      <th>texto</th>\n",
       "      <th>texto_limpo</th>\n",
       "      <th>polaridade_vader</th>\n",
       "    </tr>\n",
       "  </thead>\n",
       "  <tbody>\n",
       "    <tr>\n",
       "      <th>0</th>\n",
       "      <td>1552601236809158656</td>\n",
       "      <td>Neymar Jr</td>\n",
       "      <td>neymarjr</td>\n",
       "      <td>2022-07-28 10:25:55+00:00</td>\n",
       "      <td>@gabriel1medina Gosto de vc assim 😂😂</td>\n",
       "      <td>Gosto de vc assim 😂😂</td>\n",
       "      <td>Positivo</td>\n",
       "    </tr>\n",
       "    <tr>\n",
       "      <th>1</th>\n",
       "      <td>1551860014301827072</td>\n",
       "      <td>Neymar Jr</td>\n",
       "      <td>neymarjr</td>\n",
       "      <td>2022-07-26 09:20:34+00:00</td>\n",
       "      <td>Toda ação provava uma reação … \\nFala o que qu...</td>\n",
       "      <td>Toda ação provava uma reação … Fala o que quer...</td>\n",
       "      <td>Negativo</td>\n",
       "    </tr>\n",
       "    <tr>\n",
       "      <th>2</th>\n",
       "      <td>1551859906189328384</td>\n",
       "      <td>Neymar Jr</td>\n",
       "      <td>neymarjr</td>\n",
       "      <td>2022-07-26 09:20:08+00:00</td>\n",
       "      <td>Ah pronto! Não posso contrariar uma matéria qu...</td>\n",
       "      <td>Ah pronto! Não posso contrariar uma matéria qu...</td>\n",
       "      <td>Negativo</td>\n",
       "    </tr>\n",
       "    <tr>\n",
       "      <th>3</th>\n",
       "      <td>1551582940219559936</td>\n",
       "      <td>Neymar Jr</td>\n",
       "      <td>neymarjr</td>\n",
       "      <td>2022-07-25 14:59:34+00:00</td>\n",
       "      <td>Meu sobrenome 😂🤷🏽‍♂️ atura ou surta https://t....</td>\n",
       "      <td>Meu sobrenome 😂🤷🏽‍♂️ atura ou surta</td>\n",
       "      <td>Neutro</td>\n",
       "    </tr>\n",
       "    <tr>\n",
       "      <th>4</th>\n",
       "      <td>1551576735443034112</td>\n",
       "      <td>Neymar Jr</td>\n",
       "      <td>neymarjr</td>\n",
       "      <td>2022-07-25 14:34:55+00:00</td>\n",
       "      <td>@geglobo Fantasma? 😂😂😂 ge sendo ge … tocou é p...</td>\n",
       "      <td>Fantasma? 😂😂😂 ge sendo ge … tocou é pênalti! B...</td>\n",
       "      <td>Negativo</td>\n",
       "    </tr>\n",
       "  </tbody>\n",
       "</table>\n",
       "</div>"
      ],
      "text/plain": [
       "              id_tweet       nome nome_conta              data_criacao  \\\n",
       "0  1552601236809158656  Neymar Jr   neymarjr 2022-07-28 10:25:55+00:00   \n",
       "1  1551860014301827072  Neymar Jr   neymarjr 2022-07-26 09:20:34+00:00   \n",
       "2  1551859906189328384  Neymar Jr   neymarjr 2022-07-26 09:20:08+00:00   \n",
       "3  1551582940219559936  Neymar Jr   neymarjr 2022-07-25 14:59:34+00:00   \n",
       "4  1551576735443034112  Neymar Jr   neymarjr 2022-07-25 14:34:55+00:00   \n",
       "\n",
       "                                               texto  \\\n",
       "0               @gabriel1medina Gosto de vc assim 😂😂   \n",
       "1  Toda ação provava uma reação … \\nFala o que qu...   \n",
       "2  Ah pronto! Não posso contrariar uma matéria qu...   \n",
       "3  Meu sobrenome 😂🤷🏽‍♂️ atura ou surta https://t....   \n",
       "4  @geglobo Fantasma? 😂😂😂 ge sendo ge … tocou é p...   \n",
       "\n",
       "                                         texto_limpo polaridade_vader  \n",
       "0                               Gosto de vc assim 😂😂         Positivo  \n",
       "1  Toda ação provava uma reação … Fala o que quer...         Negativo  \n",
       "2  Ah pronto! Não posso contrariar uma matéria qu...         Negativo  \n",
       "3                Meu sobrenome 😂🤷🏽‍♂️ atura ou surta           Neutro  \n",
       "4  Fantasma? 😂😂😂 ge sendo ge … tocou é pênalti! B...         Negativo  "
      ]
     },
     "execution_count": 86,
     "metadata": {},
     "output_type": "execute_result"
    }
   ],
   "source": [
    "dados.head()"
   ]
  },
  {
   "cell_type": "code",
   "execution_count": 76,
   "id": "95e91b86",
   "metadata": {},
   "outputs": [],
   "source": [
    "dados.to_json(\"example_dataset_with_vader_polarities.json\", orient=\"records\")"
   ]
  },
  {
   "cell_type": "code",
   "execution_count": null,
   "id": "a7e698cc",
   "metadata": {},
   "outputs": [],
   "source": []
  }
 ],
 "metadata": {
  "kernelspec": {
   "display_name": "Python 3",
   "language": "python",
   "name": "python3"
  },
  "language_info": {
   "codemirror_mode": {
    "name": "ipython",
    "version": 3
   },
   "file_extension": ".py",
   "mimetype": "text/x-python",
   "name": "python",
   "nbconvert_exporter": "python",
   "pygments_lexer": "ipython3",
   "version": "3.7.13"
  }
 },
 "nbformat": 4,
 "nbformat_minor": 5
}
